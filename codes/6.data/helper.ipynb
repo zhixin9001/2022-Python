{
 "cells": [
  {
   "cell_type": "code",
   "execution_count": 26,
   "metadata": {},
   "outputs": [],
   "source": [
    "import functions as func\n",
    "# latest = func.get_data_from_api()\n",
    "# latest_no = latest[0]\n",
    "# func.sync_current_csv(latest_no)\n",
    "reds, blues, red_blues = func.get_data('current.csv')\n",
    "reds, blues, red_blues = func.get_data('history.csv')\n",
    "red_avg_total = (1+35)*5/2\n",
    "blue_avg_total = (1+12)*2/2"
   ]
  },
  {
   "cell_type": "code",
   "execution_count": null,
   "metadata": {},
   "outputs": [],
   "source": [
    "# prime number\n",
    "primes = [2, 3, 5, 7, 11, 13, 17, 19, 23, 29, 31]\n",
    "prime_count,prime_stats = func.get_prime_stats(reds)\n",
    "func.draw_plot(prime_count,'Prime Number')\n",
    "# prefer: 1/2, 3/0\n",
    "_next_primes_count=3"
   ]
  },
  {
   "cell_type": "code",
   "execution_count": null,
   "metadata": {},
   "outputs": [],
   "source": [
    "## sum\n",
    "# red\n",
    "red_sums, red_avgs, red_diffs = func.get_sum_avg_diff(\n",
    "    reds, red_avg_total)\n",
    "func.draw_sum_plot(red_sums, red_avgs, title='Red Sum')\n",
    "red_diff_counts = func.get_diff_count(red_diffs, step=5)\n",
    "# prefer 5-10/0-5/10-15/15-20\n",
    "_next_red_sum_from=90\n",
    "_next_red_sum_to=100\n",
    "\n",
    "# blue\n",
    "blue_sums, blue_avgs, blue_diffs = func.get_sum_avg_diff(\n",
    "    blues, blue_avg_total)\n",
    "func.draw_sum_plot(blue_sums, blue_avgs, color='blue', title='Blue Sum')\n",
    "blue_diff_counts = func.get_diff_count(blue_diffs, step=1)\n",
    "# prefer 1,2/3,4,5\n",
    "_next_blue_sum_from=8\n",
    "_next_blue_sum_to=13\n"
   ]
  },
  {
   "cell_type": "code",
   "execution_count": null,
   "metadata": {},
   "outputs": [],
   "source": [
    "# flow\n",
    "func.draw_plot(reds, 'Red: flow')\n",
    "func.draw_plot(blues,'Blue: flow')"
   ]
  },
  {
   "cell_type": "code",
   "execution_count": null,
   "metadata": {},
   "outputs": [],
   "source": [
    "# hot\n",
    "reds_hot = func.get_hot(reds)\n",
    "func.draw_bar(reds_hot.keys(), reds_hot.values())\n",
    "_next_colds=list(dict(filter(lambda x: x[1]==0,reds_hot.items())).keys())\n",
    "print(_next_colds)\n",
    "\n",
    "blues_hot = func.get_hot(blues, nums =12)\n",
    "func.draw_bar(blues_hot.keys(), blues_hot.values())"
   ]
  },
  {
   "cell_type": "code",
   "execution_count": 48,
   "metadata": {},
   "outputs": [
    {
     "name": "stdout",
     "output_type": "stream",
     "text": [
      "0\n"
     ]
    }
   ],
   "source": [
    "# \n",
    "right=0\n",
    "for index in range(1000):\n",
    "    reds_hot = func.get_hot(reds[index+1:index+10])\n",
    "    prefers=list(dict(filter(lambda x: x[1]==0,reds_hot.items())).keys())\n",
    "\n",
    "    results = func.get_all_5degrees(prefers)\n",
    "    total_count=len(results)\n",
    "    filtered = func.sum_filter(results)\n",
    "    filtered = func.area3_filter(filtered)\n",
    "    filtered = func.area4_filter(filtered)\n",
    "    filtered = func.area5_filter(filtered)\n",
    "    filtered = func.ac_filter(filtered)\n",
    "    finally_count=len(filtered)\n",
    "\n",
    "    chec=tuple(reds[index])\n",
    "    isRight=chec in filtered\n",
    "    # print(total_count,finally_count,isRight)\n",
    "    if isRight:\n",
    "        right+=1\n",
    "print(right)"
   ]
  }
 ],
 "metadata": {
  "interpreter": {
   "hash": "7f67b145bab035e6f7f2be0648e9e62e9f0ab6f7b970e5ac977f433e12071303"
  },
  "kernelspec": {
   "display_name": "Python 3.10.2 64-bit",
   "language": "python",
   "name": "python3"
  },
  "language_info": {
   "codemirror_mode": {
    "name": "ipython",
    "version": 3
   },
   "file_extension": ".py",
   "mimetype": "text/x-python",
   "name": "python",
   "nbconvert_exporter": "python",
   "pygments_lexer": "ipython3",
   "version": "3.10.2"
  },
  "orig_nbformat": 4
 },
 "nbformat": 4,
 "nbformat_minor": 2
}
