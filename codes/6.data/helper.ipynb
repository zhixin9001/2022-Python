{
 "cells": [
  {
   "cell_type": "code",
   "execution_count": 9,
   "metadata": {},
   "outputs": [
    {
     "name": "stdout",
     "output_type": "stream",
     "text": [
      "{'lottery_id': 'dlt', 'lottery_name': '超级大乐透', 'lottery_res': '10,14,18,23,25,07,11', 'lottery_no': '22017', 'lottery_date': '2022-02-19', 'lottery_exdate': '2022-04-19', 'lottery_sale_amount': '2.95亿', 'lottery_pool_amount': '11.34亿', 'lottery_prize': [{'prize_name': '一等奖', 'prize_num': '5', 'prize_amount': '10,000,000', 'prize_require': '5+2'}, {'prize_name': '一等奖追加', 'prize_num': '2', 'prize_amount': '8,000,000', 'prize_require': '5+2'}, {'prize_name': '二等奖', 'prize_num': '74', 'prize_amount': '187,025', 'prize_require': '5+1'}, {'prize_name': '二等奖追加', 'prize_num': '22', 'prize_amount': '149,620', 'prize_require': '5+1'}, {'prize_name': '三等奖', 'prize_num': '268', 'prize_amount': '10,000', 'prize_require': '5+0'}, {'prize_name': '四等奖', 'prize_num': '789', 'prize_amount': '3,000', 'prize_require': '4+2'}, {'prize_name': '五等奖', 'prize_num': '14696', 'prize_amount': '300', 'prize_require': '4+1'}, {'prize_name': '六等奖', 'prize_num': '25692', 'prize_amount': '200', 'prize_require': '3+2'}, {'prize_name': '七等奖', 'prize_num': '29658', 'prize_amount': '100', 'prize_require': '4+0'}, {'prize_name': '八等奖', 'prize_num': '739116', 'prize_amount': '15', 'prize_require': '3+1,2+2'}, {'prize_name': '九等奖', 'prize_num': '7637259', 'prize_amount': '5', 'prize_require': '3+0,1+2,2+1,0+2'}]}\n",
      "10,14,18,23,25,07,11\n",
      "22017\n",
      "2022-02-19\n",
      "5\n",
      "2\n",
      "74\n",
      "22\n",
      "268\n",
      "789\n"
     ]
    }
   ],
   "source": [
    "import csv, requests\n",
    "no=22017\n",
    "url=f'http://apis.juhe.cn/lottery/query?lottery_id=dlt&lottery_no={no}&key=9365405c5ef92ff40339fe6af9e73bdb'\n",
    "res=requests.get(url).json()\n",
    "result=res['result']\n",
    "print(result)\n",
    "print(result['lottery_res'])\n",
    "print(result['lottery_no'])\n",
    "print(result['lottery_date'])\n",
    "prize=result['lottery_prize']\n",
    "print(prize[0]['prize_num'])\n",
    "print(prize[1]['prize_num'])\n",
    "print(prize[2]['prize_num'])\n",
    "print(prize[3]['prize_num'])\n",
    "print(prize[4]['prize_num'])\n",
    "print(prize[5]['prize_num'])"
   ]
  }
 ],
 "metadata": {
  "interpreter": {
   "hash": "7f67b145bab035e6f7f2be0648e9e62e9f0ab6f7b970e5ac977f433e12071303"
  },
  "kernelspec": {
   "display_name": "Python 3.10.2 64-bit",
   "language": "python",
   "name": "python3"
  },
  "language_info": {
   "codemirror_mode": {
    "name": "ipython",
    "version": 3
   },
   "file_extension": ".py",
   "mimetype": "text/x-python",
   "name": "python",
   "nbconvert_exporter": "python",
   "pygments_lexer": "ipython3",
   "version": "3.10.2"
  },
  "orig_nbformat": 4
 },
 "nbformat": 4,
 "nbformat_minor": 2
}
