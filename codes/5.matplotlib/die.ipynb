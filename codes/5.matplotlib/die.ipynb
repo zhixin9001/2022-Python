{
  "metadata": {
    "language_info": {
      "name": "python",
      "version": "3.10.2",
      "mimetype": "text/x-python",
      "codemirror_mode": {
        "name": "ipython",
        "version": 3
      },
      "pygments_lexer": "ipython3",
      "nbconvert_exporter": "python",
      "file_extension": ".py"
    },
    "kernelspec": {
      "name": "python3",
      "display_name": "Python 3 (ipykernel)",
      "language": "python"
    },
    "colab": {
      "name": "die.ipynb",
      "provenance": []
    }
  },
  "nbformat_minor": 5,
  "nbformat": 4,
  "cells": [
    {
      "cell_type": "code",
      "source": [
        "from random import randint"
      ],
      "metadata": {
        "trusted": true,
        "id": "370a1013-f065-4211-83c0-872fa11710d6"
      },
      "execution_count": 1,
      "outputs": [],
      "id": "370a1013-f065-4211-83c0-872fa11710d6"
    },
    {
      "cell_type": "code",
      "source": [
        "class Die:\n",
        "    def __init__(self,numside=6):\n",
        "        self.numside=numside\n",
        "    def roll(self):\n",
        "        return randint(1,self.numside)"
      ],
      "metadata": {
        "trusted": true,
        "id": "3a2b16ad-fae2-4227-9452-4e82e7ece775"
      },
      "execution_count": 2,
      "outputs": [],
      "id": "3a2b16ad-fae2-4227-9452-4e82e7ece775"
    },
    {
      "cell_type": "code",
      "source": [
        "die=Die()\n",
        "results=[]\n",
        "for i in range(1000):\n",
        "    result=die.roll()\n",
        "    results.append(result)\n",
        "#print(results)   "
      ],
      "metadata": {
        "trusted": true,
        "id": "05694734-6a36-4d7c-a336-f1f90d1dd5a1"
      },
      "execution_count": 3,
      "outputs": [],
      "id": "05694734-6a36-4d7c-a336-f1f90d1dd5a1"
    },
    {
      "cell_type": "code",
      "source": [
        "freq=[]\n",
        "for val in range(1,die.numside+1):\n",
        "    f=results.count(val)\n",
        "    freq.append(f)\n",
        "    \n",
        "print(freq)"
      ],
      "metadata": {
        "trusted": true,
        "id": "154c8068-0b2c-40c0-9fc2-844a1093bf79",
        "outputId": "3b13f564-c683-4bde-91c0-c43c9142aa91",
        "colab": {
          "base_uri": "https://localhost:8080/"
        }
      },
      "execution_count": 4,
      "outputs": [
        {
          "output_type": "stream",
          "name": "stdout",
          "text": [
            "[182, 172, 174, 172, 140, 160]\n"
          ]
        }
      ],
      "id": "154c8068-0b2c-40c0-9fc2-844a1093bf79"
    },
    {
      "cell_type": "code",
      "source": [
        "from plotly.graph_objs import Bar,Layout\n",
        "from plotly import offline\n",
        "from google.colab import drive\n",
        "drive.mount('/content/drive')"
      ],
      "metadata": {
        "trusted": true,
        "id": "6c82b1f1-96cb-423a-8e98-5c34f1553a02",
        "outputId": "d85b9550-96ac-40a9-b21f-adb70f598999",
        "colab": {
          "base_uri": "https://localhost:8080/"
        }
      },
      "execution_count": 13,
      "outputs": [
        {
          "output_type": "stream",
          "name": "stdout",
          "text": [
            "Drive already mounted at /content/drive; to attempt to forcibly remount, call drive.mount(\"/content/drive\", force_remount=True).\n"
          ]
        }
      ],
      "id": "6c82b1f1-96cb-423a-8e98-5c34f1553a02"
    },
    {
      "cell_type": "code",
      "source": [
        ""
      ],
      "metadata": {
        "id": "G-niYo5nA71O",
        "outputId": "7c0d5469-79e7-477f-903f-b962700fe62f",
        "colab": {
          "base_uri": "https://localhost:8080/"
        }
      },
      "id": "G-niYo5nA71O",
      "execution_count": 9,
      "outputs": [
        {
          "output_type": "stream",
          "name": "stdout",
          "text": [
            "Mounted at /content/drive\n"
          ]
        }
      ]
    },
    {
      "cell_type": "code",
      "source": [
        "xvals=list(range(1,die.numside+1))\n",
        "data=[Bar(x=xvals,y=freq)]\n",
        "x_axis_config={'title':'result'}\n",
        "y_axis_config={'title':'freq'}\n",
        "my_layout=Layout(title='test test...',xaxis=x_axis_config, yaxis=y_axis_config)\n",
        "offline.plot({'data':data, 'layout':my_layout}, filename='/content/drive/MyDrive/d6.html')"
      ],
      "metadata": {
        "id": "dcd28403-5190-4033-be64-e7f232566751",
        "outputId": "8b58cf8d-02f1-4003-fc87-9bbe5dcdffbf",
        "colab": {
          "base_uri": "https://localhost:8080/",
          "height": 35
        }
      },
      "execution_count": 14,
      "outputs": [
        {
          "output_type": "execute_result",
          "data": {
            "application/vnd.google.colaboratory.intrinsic+json": {
              "type": "string"
            },
            "text/plain": [
              "'/content/drive/MyDrive/d6.html'"
            ]
          },
          "metadata": {},
          "execution_count": 14
        }
      ],
      "id": "dcd28403-5190-4033-be64-e7f232566751"
    }
  ]
}